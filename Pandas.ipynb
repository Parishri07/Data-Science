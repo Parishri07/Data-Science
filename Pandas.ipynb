{
  "nbformat": 4,
  "nbformat_minor": 0,
  "metadata": {
    "colab": {
      "provenance": [],
      "authorship_tag": "ABX9TyNcc1SbI7hZjFiit6hypkER",
      "include_colab_link": true
    },
    "kernelspec": {
      "name": "python3",
      "display_name": "Python 3"
    },
    "language_info": {
      "name": "python"
    }
  },
  "cells": [
    {
      "cell_type": "markdown",
      "metadata": {
        "id": "view-in-github",
        "colab_type": "text"
      },
      "source": [
        "<a href=\"https://colab.research.google.com/github/Parishri07/Data-Science/blob/main/Pandas.ipynb\" target=\"_parent\"><img src=\"https://colab.research.google.com/assets/colab-badge.svg\" alt=\"Open In Colab\"/></a>"
      ]
    },
    {
      "cell_type": "code",
      "source": [
        "\"\"\"\n",
        "with open(\"Example1.txt\",\"r\") as file1:\n",
        "\n",
        "FileContent=file1.readlines()\n",
        "\n",
        "print(FileContent)\n",
        "\"\"\"\n",
        "# open the files and automatically closes it after completion of tasks"
      ],
      "metadata": {
        "id": "H7dLpHXdPFtQ"
      },
      "execution_count": null,
      "outputs": []
    },
    {
      "cell_type": "code",
      "execution_count": 3,
      "metadata": {
        "id": "SOeHQWSTFCBR"
      },
      "outputs": [],
      "source": [
        "import pandas as pd\n",
        "\n",
        "# csv_path = 'file1.txt'\n",
        "# df = pd.read_csv(csv_path)\n",
        "\n",
        "# xlsx_path = 'file1.xlsx'\n",
        "# df = pd.read_excel(xlsx_path)"
      ]
    },
    {
      "cell_type": "code",
      "source": [
        "songs = {'Album': ['A','B','C'],'Released': [1,2,3]}\n",
        "songs_frame = pd.DataFrame(songs)\n",
        "print(songs_frame)"
      ],
      "metadata": {
        "colab": {
          "base_uri": "https://localhost:8080/"
        },
        "id": "-3_-W6QHGX8v",
        "outputId": "7145558a-00f3-42fe-a0fa-366f8ca1ad52"
      },
      "execution_count": 2,
      "outputs": [
        {
          "output_type": "stream",
          "name": "stdout",
          "text": [
            "  Album  Released\n",
            "0     A         1\n",
            "1     B         2\n",
            "2     C         3\n"
          ]
        }
      ]
    },
    {
      "cell_type": "code",
      "source": [
        "x=songs_frame['Released']\n",
        "print(x)"
      ],
      "metadata": {
        "colab": {
          "base_uri": "https://localhost:8080/"
        },
        "id": "gY8EuYbUGcp2",
        "outputId": "03a23955-0ed4-4743-fe9b-a4a452c95f36"
      },
      "execution_count": 5,
      "outputs": [
        {
          "output_type": "stream",
          "name": "stdout",
          "text": [
            "0    1\n",
            "1    2\n",
            "2    3\n",
            "Name: Released, dtype: int64\n"
          ]
        }
      ]
    },
    {
      "cell_type": "markdown",
      "source": [
        "Slicing data frames"
      ],
      "metadata": {
        "id": "EXItB-8MHlzl"
      }
    },
    {
      "cell_type": "code",
      "source": [
        "# df.iloc[0,0]\n",
        "# df.iloc[0,Album]\n",
        "# accesss the first row and first column"
      ],
      "metadata": {
        "id": "sg7VXV0yG13l"
      },
      "execution_count": null,
      "outputs": []
    },
    {
      "cell_type": "code",
      "source": [
        "z = songs_frame.iloc[0:1,0:2]\n",
        "print(z)\n",
        "# rows from 0 and 1 not included and columns from 0 to 1"
      ],
      "metadata": {
        "colab": {
          "base_uri": "https://localhost:8080/"
        },
        "id": "seMu6k9nHG9q",
        "outputId": "4bb886eb-7fef-4ee0-9fe0-16a87f7eea52"
      },
      "execution_count": 8,
      "outputs": [
        {
          "output_type": "stream",
          "name": "stdout",
          "text": [
            "  Album  Released\n",
            "0     A         1\n"
          ]
        }
      ]
    },
    {
      "cell_type": "code",
      "source": [
        "# df['col_name'].unique()\n",
        "# gives the unique values"
      ],
      "metadata": {
        "id": "6m9l0rGhMjei"
      },
      "execution_count": null,
      "outputs": []
    }
  ]
}