{
  "nbformat": 4,
  "nbformat_minor": 0,
  "metadata": {
    "colab": {
      "provenance": [],
      "authorship_tag": "ABX9TyMFOkR7Lc1GCrwKeI6HJZ2X",
      "include_colab_link": true
    },
    "kernelspec": {
      "name": "python3",
      "display_name": "Python 3"
    },
    "language_info": {
      "name": "python"
    }
  },
  "cells": [
    {
      "cell_type": "markdown",
      "metadata": {
        "id": "view-in-github",
        "colab_type": "text"
      },
      "source": [
        "<a href=\"https://colab.research.google.com/github/Parishri07/Data-Science/blob/main/Model_Evaluation.ipynb\" target=\"_parent\"><img src=\"https://colab.research.google.com/assets/colab-badge.svg\" alt=\"Open In Colab\"/></a>"
      ]
    },
    {
      "cell_type": "code",
      "execution_count": null,
      "metadata": {
        "id": "YDcSkK-G8oiX"
      },
      "outputs": [],
      "source": [
        "# train_test_split()\n",
        "from sklearn.model_selection import train_test_split\n",
        "X_train, X_test, y_train, y_test = train_test_split(X, y, test_size=0.3, random_state=0)"
      ]
    },
    {
      "cell_type": "code",
      "source": [
        "# cross validation\n",
        "from sklearn.model_selection import cross_val_score\n",
        "scores = cross_val_score(lr, x_data, y_data, cv=3)\n",
        "\n",
        "np.mean(scores)"
      ],
      "metadata": {
        "id": "_ZnBsBJPQyTZ"
      },
      "execution_count": null,
      "outputs": []
    },
    {
      "cell_type": "code",
      "source": [
        "from sklearn.model_selection import cross_val_predict\n",
        "pred = cross_val_predict(lr2e, x_data, y_data, cv=3)"
      ],
      "metadata": {
        "id": "_tVJlfVsRtV8"
      },
      "execution_count": null,
      "outputs": []
    },
    {
      "cell_type": "markdown",
      "source": [
        "**Under-fitting**: the model is too simple to fit the data.\n",
        "\n",
        "**Over-fitting**: the model is too flexible and fits the noise rather than the function."
      ],
      "metadata": {
        "id": "_zRQPTGPStEZ"
      }
    },
    {
      "cell_type": "code",
      "source": [
        "Rsqu_test=[]\n",
        "order = [1,2,3,4]\n",
        "for n in order:\n",
        "  pr = PolynomialFeatures(degree=n)\n",
        "  x_train_pr = pr.fit_transform(x_train[['horsepower']])\n",
        "  x_test_pr = pr.fit_transform(x_test[['horsepower']])\n",
        "  lr.fit(x_train_pr, y_train)\n",
        "  Rsqu_test.append(lr.score(x_test_pr, y_test))"
      ],
      "metadata": {
        "id": "aadLNBN5TvT4"
      },
      "execution_count": null,
      "outputs": []
    },
    {
      "cell_type": "markdown",
      "source": [
        "**Ridge Regression**"
      ],
      "metadata": {
        "id": "RlXGiZRNV6Vd"
      }
    },
    {
      "cell_type": "code",
      "source": [
        "from sklearn.linear_model import Ridge\n",
        "RidgeModel = Ridge(alpha=0.1)\n",
        "RidgeModel.fit(X,y)\n",
        "pred = RidgeModel.predict(X)"
      ],
      "metadata": {
        "id": "Ulx0KPAoV94G"
      },
      "execution_count": null,
      "outputs": []
    },
    {
      "cell_type": "markdown",
      "source": [
        "**Grid Search**\n",
        "\n",
        "Scikit-learn has a means pf automatically iterating over these hyperparameters usinf cross validation called Grid Search."
      ],
      "metadata": {
        "id": "fuAS_c7Ndpye"
      }
    },
    {
      "cell_type": "code",
      "source": [
        "from sklearn.linear_model import Ridge\n",
        "from sklearn.model_selection import GridSearchCV\n",
        "\n",
        "parameters1 = [{'alpha': [0.001, 0.1, 1, 10, 100, 1000], 'normalise': [True, False] }]\n",
        "RR = Ridge()\n",
        "\n",
        "Grid1 = GridSearchCV(RR, parameters1, cv=4)\n",
        "\n",
        "Grid1.fit(x_data[['horsepower', 'curb-weight', 'engine-size', 'highway-mpg']], y_data)\n",
        "\n",
        "Grid1.best_estimator_\n",
        "\n",
        "scores = Grid1.cv_results_\n",
        "scores['mean_test_score']\n",
        "\n",
        "for param, mean_val, mean_test inzip(scores['params'], scores['mean_train_score'], scores['mean_test_score']):\n",
        "  print(param, mean_val, mean_test)"
      ],
      "metadata": {
        "id": "StirdTI4ebFZ"
      },
      "execution_count": null,
      "outputs": []
    }
  ]
}