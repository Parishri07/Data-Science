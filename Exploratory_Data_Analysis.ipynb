{
  "nbformat": 4,
  "nbformat_minor": 0,
  "metadata": {
    "colab": {
      "provenance": [],
      "authorship_tag": "ABX9TyPbd4lXZbXHWw7D2hBtwJUF",
      "include_colab_link": true
    },
    "kernelspec": {
      "name": "python3",
      "display_name": "Python 3"
    },
    "language_info": {
      "name": "python"
    }
  },
  "cells": [
    {
      "cell_type": "markdown",
      "metadata": {
        "id": "view-in-github",
        "colab_type": "text"
      },
      "source": [
        "<a href=\"https://colab.research.google.com/github/Parishri07/Data-Science/blob/main/Exploratory_Data_Analysis.ipynb\" target=\"_parent\"><img src=\"https://colab.research.google.com/assets/colab-badge.svg\" alt=\"Open In Colab\"/></a>"
      ]
    },
    {
      "cell_type": "markdown",
      "source": [
        "**Descriptive** **analysis**"
      ],
      "metadata": {
        "id": "45r3IfgagUkA"
      }
    },
    {
      "cell_type": "code",
      "source": [
        "df.describe()\n",
        "# df.describe(include='all')\n",
        "# returns the statistical summary\n",
        "\n",
        "df.info()\n",
        "\n",
        "value_counts()\n",
        "# summarize the categorical variables\n",
        "\n",
        "sns.boxplot(x='drive wheels', y='price', data=df)\n",
        "# Box plot\n",
        "\n",
        "# Scatter plot\n",
        "# independent variable on x axis and dependent/target variable on y axis\n",
        "y=df['price']\n",
        "x=df['engine']\n",
        "plt.scatter(x,y)\n",
        "plt.title(\"Scatter of Engine size vs Price\")\n",
        "plt.xlabel(\"Engine size\")\n",
        "plt.ylabel(\"Price\")"
      ],
      "metadata": {
        "id": "CWc5jEwu03Ab"
      },
      "execution_count": null,
      "outputs": []
    },
    {
      "cell_type": "markdown",
      "source": [
        "**Grouping data**"
      ],
      "metadata": {
        "id": "BDqB-OOmivP9"
      }
    },
    {
      "cell_type": "code",
      "source": [
        "df_test = df[['drive-wheels', 'body-style', 'price']]\n",
        "df_grp = df_test.groupby(['drive-wheels', 'body-style'], as_index=False).mean()\n",
        "df_grp\n",
        "\n",
        "# pivot table\n",
        "df_pivot = df_grp.pivot(index = 'drive-wheels', columns = 'body-style')\n",
        "\n",
        "# heat maps\n",
        "plt.pcolor(df_pivot, cmap='Rdbu')\n",
        "plt.colorbar()\n",
        "plt.show()"
      ],
      "metadata": {
        "id": "tCEMqUTxiyyD"
      },
      "execution_count": null,
      "outputs": []
    },
    {
      "cell_type": "markdown",
      "source": [
        "**ANOVA**:- Analysis of variance\n",
        "\n",
        "F-test score: variation between sample group means divided by variation within sample group\n",
        "\n",
        "p-value: confidence degree"
      ],
      "metadata": {
        "id": "lObbuXe70bLF"
      }
    },
    {
      "cell_type": "code",
      "source": [
        "# ANOVA between \"Honda\" and \"Subaru\"\n",
        "df_anova = df[['make', 'price']]\n",
        "grouped_anova = df_anova.groupby(['make'])\n",
        "anova_results_1 = stats.f_oneway(grouped_anova.get_group('Honda')['price'], grouped_anova.get_group('Subaru')['price'])\n",
        "\n",
        "# ANOVA between \"Honda\" and \"Jaguar\"\n",
        "anova_results_2  = stats.f_oneway(grouped_anova.get_group('Honda')['price'], grouped_anova.get_group('Jaguar')['price'])"
      ],
      "metadata": {
        "id": "6BcSFVuW0onw"
      },
      "execution_count": null,
      "outputs": []
    },
    {
      "cell_type": "markdown",
      "source": [
        "poor correlation between categories and target variable - small f-test score (less than 1) and p value is greater than 0.5\n",
        "\n",
        "strong correlation - large f-score and small p-value"
      ],
      "metadata": {
        "id": "qLg_wISq1mz-"
      }
    },
    {
      "cell_type": "markdown",
      "source": [
        "**Coorelation**\n",
        "\n",
        "using sns.regplot()\n",
        "\n",
        "only those features which are highly positively or negatively correlated should be used  "
      ],
      "metadata": {
        "id": "hANe573A4H3v"
      }
    },
    {
      "cell_type": "markdown",
      "source": [
        "**Pearson correlation**: correlation coeefecient and p-value\n",
        "\n"
      ],
      "metadata": {
        "id": "GQqn79sL4rmA"
      }
    },
    {
      "cell_type": "code",
      "source": [
        "pearson_coeff, p_value = stats.pearsonr(df['horsepower'], df['price'])"
      ],
      "metadata": {
        "id": "1U50JogD5NIm"
      },
      "execution_count": null,
      "outputs": []
    }
  ]
}