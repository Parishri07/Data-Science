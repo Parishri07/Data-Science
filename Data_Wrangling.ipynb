{
  "nbformat": 4,
  "nbformat_minor": 0,
  "metadata": {
    "colab": {
      "provenance": [],
      "authorship_tag": "ABX9TyO7M96vgzi2TX1V4bPONjdy",
      "include_colab_link": true
    },
    "kernelspec": {
      "name": "python3",
      "display_name": "Python 3"
    },
    "language_info": {
      "name": "python"
    }
  },
  "cells": [
    {
      "cell_type": "markdown",
      "metadata": {
        "id": "view-in-github",
        "colab_type": "text"
      },
      "source": [
        "<a href=\"https://colab.research.google.com/github/Parishri07/Data-Science/blob/main/Data_Wrangling.ipynb\" target=\"_parent\"><img src=\"https://colab.research.google.com/assets/colab-badge.svg\" alt=\"Open In Colab\"/></a>"
      ]
    },
    {
      "cell_type": "markdown",
      "source": [
        "**Dealing with missing** **values**"
      ],
      "metadata": {
        "id": "di3-hRcsBu9i"
      }
    },
    {
      "cell_type": "markdown",
      "source": [
        "We can drop missing values whose value is NaN by usinf\n",
        "\n",
        "df.dropna()\n",
        "\n",
        "axis=0 drops the row containing missing values while axis=1 drops the column"
      ],
      "metadata": {
        "id": "A6mrdJ3R2r7m"
      }
    },
    {
      "cell_type": "markdown",
      "source": [
        "mean = df['Price'].mean()\n",
        "\n",
        "df = df['Price'].replace(np.nan, mean)"
      ],
      "metadata": {
        "id": "bxYpsLesBuEZ"
      }
    },
    {
      "cell_type": "markdown",
      "source": [
        "**Binning**"
      ],
      "metadata": {
        "id": "d6GrKV_Wkhem"
      }
    },
    {
      "cell_type": "code",
      "source": [
        "bins = np.linspace(min(df['Price']), max(df['Price']), 4)\n",
        "group_names = ['Low', 'Medium', 'High']\n",
        "df['Price-binned'] = pd.cut(df['Price'], bins, labels=group_names, include_lowest=True)"
      ],
      "metadata": {
        "id": "aFlUctzFpISR"
      },
      "execution_count": null,
      "outputs": []
    },
    {
      "cell_type": "markdown",
      "source": [
        "Turning categorical variable into quantitative variables"
      ],
      "metadata": {
        "id": "gXYxVRrlT1BA"
      }
    },
    {
      "cell_type": "code",
      "source": [
        "pd.get_dummies(df['attribute_name'])\n",
        "# converts string vlaues to different categories"
      ],
      "metadata": {
        "id": "XOQFpEvtpLah"
      },
      "execution_count": null,
      "outputs": []
    },
    {
      "cell_type": "markdown",
      "source": [
        "**Standardising data**\n",
        "\n",
        "Quantile Transformation"
      ],
      "metadata": {
        "id": "ym33xV5dm4KQ"
      }
    },
    {
      "cell_type": "code",
      "source": [
        "from sklearn.preprocessing import StandardScaler, QuantileTransformer\n",
        "\n",
        "X_new = QuantileTransformer(n_quantiles=100).fit_transform(X)\n",
        "\n",
        "plt.scatter(X_new[:, 0], X_new[:, 1], c=y)"
      ],
      "metadata": {
        "id": "k9NxzQJWrT0A"
      },
      "execution_count": null,
      "outputs": []
    }
  ]
}