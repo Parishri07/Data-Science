{
  "nbformat": 4,
  "nbformat_minor": 0,
  "metadata": {
    "colab": {
      "provenance": [],
      "authorship_tag": "ABX9TyOPfqIhRlCEFZ/kK7dfjjtS",
      "include_colab_link": true
    },
    "kernelspec": {
      "name": "python3",
      "display_name": "Python 3"
    },
    "language_info": {
      "name": "python"
    }
  },
  "cells": [
    {
      "cell_type": "markdown",
      "metadata": {
        "id": "view-in-github",
        "colab_type": "text"
      },
      "source": [
        "<a href=\"https://colab.research.google.com/github/Parishri07/Data-Science/blob/main/NumPy.ipynb\" target=\"_parent\"><img src=\"https://colab.research.google.com/assets/colab-badge.svg\" alt=\"Open In Colab\"/></a>"
      ]
    },
    {
      "cell_type": "code",
      "execution_count": 2,
      "metadata": {
        "colab": {
          "base_uri": "https://localhost:8080/"
        },
        "id": "_9_yPd9kIUp8",
        "outputId": "dd05cb69-7a7d-4e98-821e-115689d06a91"
      },
      "outputs": [
        {
          "output_type": "stream",
          "name": "stdout",
          "text": [
            "[1 2 3 4]\n",
            "<class 'numpy.ndarray'>\n"
          ]
        }
      ],
      "source": [
        "import numpy as np\n",
        "\n",
        "x = np.array([1,2,3,4])\n",
        "print(x)\n",
        "print(type(x))"
      ]
    },
    {
      "cell_type": "code",
      "source": [
        "##Python lists\n",
        "y=[1,2,3,4]\n",
        "print(y)\n",
        "print(type(y))"
      ],
      "metadata": {
        "colab": {
          "base_uri": "https://localhost:8080/"
        },
        "id": "nzOImOoRIwsI",
        "outputId": "cd55c6bb-fbec-46e1-9b2d-d9f07d691e7e"
      },
      "execution_count": null,
      "outputs": [
        {
          "output_type": "stream",
          "name": "stdout",
          "text": [
            "[1, 2, 3, 4]\n",
            "<class 'list'>\n"
          ]
        }
      ]
    },
    {
      "cell_type": "code",
      "source": [
        "%timeit [j**4 for j in range(1,9)]"
      ],
      "metadata": {
        "colab": {
          "base_uri": "https://localhost:8080/"
        },
        "id": "wqmBuIhrLQ5M",
        "outputId": "f7d111e1-02ce-4c08-e5a3-3fac119cdb3d"
      },
      "execution_count": null,
      "outputs": [
        {
          "output_type": "stream",
          "name": "stdout",
          "text": [
            "2.69 µs ± 57.6 ns per loop (mean ± std. dev. of 7 runs, 100000 loops each)\n"
          ]
        }
      ]
    },
    {
      "cell_type": "code",
      "source": [
        "%timeit np.arange(1,9)**4"
      ],
      "metadata": {
        "colab": {
          "base_uri": "https://localhost:8080/"
        },
        "id": "DFsKsdMCLkMG",
        "outputId": "e541a201-41f0-4aa0-ab66-bfc3b0cc4e34"
      },
      "execution_count": null,
      "outputs": [
        {
          "output_type": "stream",
          "name": "stdout",
          "text": [
            "2.47 µs ± 151 ns per loop (mean ± std. dev. of 7 runs, 100000 loops each)\n"
          ]
        }
      ]
    },
    {
      "cell_type": "code",
      "source": [
        "x = [10,20,30,40,50,60]\n",
        "y = np.array(x)\n",
        "y\n",
        "print(y.ndim)\n",
        "##ndim gives the dimension of the array\n",
        "\n",
        "print(y.reshape(3,2))\n",
        "## reshape(rows, cols)"
      ],
      "metadata": {
        "colab": {
          "base_uri": "https://localhost:8080/"
        },
        "id": "QaxJF_KvNOEA",
        "outputId": "092834a7-7302-47a3-ae1d-2dbcc9124b93"
      },
      "execution_count": 12,
      "outputs": [
        {
          "output_type": "stream",
          "name": "stdout",
          "text": [
            "1\n",
            "[[10 20]\n",
            " [30 40]\n",
            " [50 60]]\n"
          ]
        }
      ]
    },
    {
      "cell_type": "code",
      "source": [
        "l = []\n",
        "for i in range(1,5):\n",
        "  int_1 = int(input(\"Enter: \"))\n",
        "  l.append(int_1)\n",
        "\n",
        "print(np.array(l))"
      ],
      "metadata": {
        "colab": {
          "base_uri": "https://localhost:8080/"
        },
        "id": "BY4zlbk2NnnR",
        "outputId": "818105f8-803e-441a-b694-d9f4a8733361"
      },
      "execution_count": null,
      "outputs": [
        {
          "output_type": "stream",
          "name": "stdout",
          "text": [
            "Enter: 12\n",
            "Enter: 13\n",
            "Enter: 14\n",
            "Enter: 15\n",
            "[12 13 14 15]\n"
          ]
        }
      ]
    },
    {
      "cell_type": "code",
      "source": [
        "## 2-D array\n",
        "arr = np.array([[1,2,3,4],[5,6,7,8],[9,10,11,12]])\n",
        "print(arr)\n",
        "print(arr.ndim)\n",
        "print(arr.shape)"
      ],
      "metadata": {
        "colab": {
          "base_uri": "https://localhost:8080/"
        },
        "id": "mc_q3NYHO5aL",
        "outputId": "cde5d6cf-95f8-4a86-800c-3226d204147c"
      },
      "execution_count": 12,
      "outputs": [
        {
          "output_type": "stream",
          "name": "stdout",
          "text": [
            "[[ 1  2  3  4]\n",
            " [ 5  6  7  8]\n",
            " [ 9 10 11 12]]\n",
            "2\n",
            "(3, 4)\n"
          ]
        }
      ]
    },
    {
      "cell_type": "code",
      "source": [
        "## N dimensional array\n",
        "arn = np.array([1,2,3,4], ndmin = 5)\n",
        "print(arn)\n",
        "print(arn.shape)"
      ],
      "metadata": {
        "colab": {
          "base_uri": "https://localhost:8080/"
        },
        "id": "SVIFV9EzP0YJ",
        "outputId": "7cc8bb77-d474-477b-c099-b3e69dc41752"
      },
      "execution_count": 10,
      "outputs": [
        {
          "output_type": "stream",
          "name": "stdout",
          "text": [
            "[[[[[1 2 3 4]]]]]\n",
            "(1, 1, 1, 1, 4)\n"
          ]
        }
      ]
    },
    {
      "cell_type": "code",
      "source": [
        "var = np.array([1,2,3,4,5,6,7,8,9,10,11,12])\n",
        "print(var.reshape(2,3,2))\n",
        "print()\n",
        "print(var.reshape(-1))"
      ],
      "metadata": {
        "colab": {
          "base_uri": "https://localhost:8080/"
        },
        "id": "7EuwthF5Ihme",
        "outputId": "18ef543c-21e6-4fb0-c2ee-0af7c5dcce3f"
      },
      "execution_count": 16,
      "outputs": [
        {
          "output_type": "stream",
          "name": "stdout",
          "text": [
            "[[[ 1  2]\n",
            "  [ 3  4]\n",
            "  [ 5  6]]\n",
            "\n",
            " [[ 7  8]\n",
            "  [ 9 10]\n",
            "  [11 12]]]\n",
            "\n",
            "[ 1  2  3  4  5  6  7  8  9 10 11 12]\n"
          ]
        }
      ]
    },
    {
      "cell_type": "code",
      "source": [
        "## Zeros\n",
        "import numpy as np\n",
        "ar_zero = np.zeros(4)\n",
        "print(ar_zero)\n",
        "\n",
        "print()\n",
        "\n",
        "ar_zero1 = np.zeros((3,4))\n",
        "print(ar_zero1)"
      ],
      "metadata": {
        "colab": {
          "base_uri": "https://localhost:8080/"
        },
        "id": "MIjh-0g_ZL2x",
        "outputId": "35ee6cf6-edf7-4671-b350-fb1874fc0476"
      },
      "execution_count": 3,
      "outputs": [
        {
          "output_type": "stream",
          "name": "stdout",
          "text": [
            "[0. 0. 0. 0.]\n",
            "\n",
            "[[0. 0. 0. 0.]\n",
            " [0. 0. 0. 0.]\n",
            " [0. 0. 0. 0.]]\n"
          ]
        }
      ]
    },
    {
      "cell_type": "code",
      "source": [
        "## Ones\n",
        "ar_one = np.ones((2,2))\n",
        "print(ar_one)"
      ],
      "metadata": {
        "colab": {
          "base_uri": "https://localhost:8080/"
        },
        "id": "g67bYs4taGQZ",
        "outputId": "4fe56779-01c3-4228-c655-fd18ab61ebee"
      },
      "execution_count": 4,
      "outputs": [
        {
          "output_type": "stream",
          "name": "stdout",
          "text": [
            "[[1. 1.]\n",
            " [1. 1.]]\n"
          ]
        }
      ]
    },
    {
      "cell_type": "code",
      "source": [
        "## Empty array\n",
        "ar_em = np.empty(4)\n",
        "print(ar_em)"
      ],
      "metadata": {
        "colab": {
          "base_uri": "https://localhost:8080/"
        },
        "id": "hZu4MbixaXK5",
        "outputId": "24278b4a-caf2-49e0-c190-e8c8bd5eee7c"
      },
      "execution_count": 6,
      "outputs": [
        {
          "output_type": "stream",
          "name": "stdout",
          "text": [
            "[0.25 0.5  0.75 1.  ]\n"
          ]
        }
      ]
    },
    {
      "cell_type": "code",
      "source": [
        "## Range array\n",
        "ar_rn = np.arange(4)\n",
        "print(ar_rn)"
      ],
      "metadata": {
        "colab": {
          "base_uri": "https://localhost:8080/"
        },
        "id": "erXhmZ4Oau1G",
        "outputId": "33dd4a4d-3f87-487a-def0-45db7a86fa1c"
      },
      "execution_count": 7,
      "outputs": [
        {
          "output_type": "stream",
          "name": "stdout",
          "text": [
            "[0 1 2 3]\n"
          ]
        }
      ]
    },
    {
      "cell_type": "code",
      "source": [
        "## Diagonal elements as 1\n",
        "ar_dia = np.eye(3)\n",
        "print(ar_dia)"
      ],
      "metadata": {
        "colab": {
          "base_uri": "https://localhost:8080/"
        },
        "id": "Ef8iKefSbCwb",
        "outputId": "5638367f-11db-4d58-f26e-a6c546268082"
      },
      "execution_count": 8,
      "outputs": [
        {
          "output_type": "stream",
          "name": "stdout",
          "text": [
            "[[1. 0. 0.]\n",
            " [0. 1. 0.]\n",
            " [0. 0. 1.]]\n"
          ]
        }
      ]
    },
    {
      "cell_type": "code",
      "source": [
        "## linspace\n",
        "ar_lin = np.linspace(0,10,num=5)\n",
        "print(ar_lin)"
      ],
      "metadata": {
        "colab": {
          "base_uri": "https://localhost:8080/"
        },
        "id": "D67w0iY-bUt7",
        "outputId": "9bafc0a7-1320-4533-c5dc-67f912f46c84"
      },
      "execution_count": 10,
      "outputs": [
        {
          "output_type": "stream",
          "name": "stdout",
          "text": [
            "[ 0.   2.5  5.   7.5 10. ]\n"
          ]
        }
      ]
    },
    {
      "cell_type": "markdown",
      "source": [
        "Random numbers"
      ],
      "metadata": {
        "id": "MUbpH6yPdRMO"
      }
    },
    {
      "cell_type": "code",
      "source": [
        "## rand()\n",
        "## all values between 0 and 1\n",
        "\n",
        "var = np.random.rand(4)\n",
        "print(var)\n",
        "\n",
        "print()\n",
        "\n",
        "var1 = np.random.rand(2,5)\n",
        "print(var1)"
      ],
      "metadata": {
        "colab": {
          "base_uri": "https://localhost:8080/"
        },
        "id": "dR_RaakedImF",
        "outputId": "b96d0b51-39a6-401c-831f-be05817c462d"
      },
      "execution_count": 12,
      "outputs": [
        {
          "output_type": "stream",
          "name": "stdout",
          "text": [
            "[0.12500396 0.1372585  0.1018629  0.8856601 ]\n",
            "[[0.20171323 0.53528503 0.64475068 0.55627784 0.14388307]\n",
            " [0.73203534 0.49535386 0.77249714 0.89152139 0.84775006]]\n"
          ]
        }
      ]
    },
    {
      "cell_type": "code",
      "source": [
        "## randn()\n",
        "## numbers close to zero, positive or negative\n",
        "\n",
        "var2 = np.random.randn(5)\n",
        "print(var2)"
      ],
      "metadata": {
        "colab": {
          "base_uri": "https://localhost:8080/"
        },
        "id": "4z928o7ZeLfs",
        "outputId": "1263d421-03b9-43e7-b8b0-5b6d183fa9fe"
      },
      "execution_count": 13,
      "outputs": [
        {
          "output_type": "stream",
          "name": "stdout",
          "text": [
            "[-0.02697582  0.77117809  0.45471307  2.30570719 -0.98640017]\n"
          ]
        }
      ]
    },
    {
      "cell_type": "code",
      "source": [
        "## ranf()\n",
        "## numbers in the interval [0.0,1.0)\n",
        "\n",
        "var3 = np.random.ranf(4)\n",
        "print(var3)"
      ],
      "metadata": {
        "colab": {
          "base_uri": "https://localhost:8080/"
        },
        "id": "8zNmp-ywegGJ",
        "outputId": "e8c27d96-19eb-4045-95c2-ab1eaf9d479e"
      },
      "execution_count": 14,
      "outputs": [
        {
          "output_type": "stream",
          "name": "stdout",
          "text": [
            "[0.60439799 0.10870924 0.68749449 0.93053052]\n"
          ]
        }
      ]
    },
    {
      "cell_type": "code",
      "source": [
        "## randint(min, max, total_values)\n",
        "\n",
        "var4 = np.random.randint(5,20,5)\n",
        "print(var4)"
      ],
      "metadata": {
        "colab": {
          "base_uri": "https://localhost:8080/"
        },
        "id": "C3-D_6A7e_Sf",
        "outputId": "cc973ba1-29b9-4389-84fa-dbae00894ed0"
      },
      "execution_count": 16,
      "outputs": [
        {
          "output_type": "stream",
          "name": "stdout",
          "text": [
            "[16 15  8 14 19]\n"
          ]
        }
      ]
    },
    {
      "cell_type": "markdown",
      "source": [
        "Data types"
      ],
      "metadata": {
        "id": "wGLqwAbqjV2v"
      }
    },
    {
      "cell_type": "code",
      "source": [
        "arr = np.array([3,4,5,6])\n",
        "print(\"Datatype: \", arr.dtype)\n",
        "## dtype gives the datatype of elements in the variable"
      ],
      "metadata": {
        "colab": {
          "base_uri": "https://localhost:8080/"
        },
        "id": "6WBKV9DvjXoT",
        "outputId": "c3fcf5e7-1c13-4e46-fff4-ed651a496284"
      },
      "execution_count": 18,
      "outputs": [
        {
          "output_type": "stream",
          "name": "stdout",
          "text": [
            "Datatype:  int64\n"
          ]
        }
      ]
    },
    {
      "cell_type": "code",
      "source": [
        "var = np.array([\"a\", 2, 3.5])\n",
        "print(\"Datatype: \",var.dtype)"
      ],
      "metadata": {
        "colab": {
          "base_uri": "https://localhost:8080/"
        },
        "id": "3edGzii7kDrw",
        "outputId": "20b9ff8f-fadd-483c-c255-8499ec8085af"
      },
      "execution_count": 20,
      "outputs": [
        {
          "output_type": "stream",
          "name": "stdout",
          "text": [
            "Datatype:  <U32\n"
          ]
        }
      ]
    },
    {
      "cell_type": "code",
      "source": [
        "x = np.array([1,2,3,4], dtype = np.int8)\n",
        "print(\"Data type: \", x.dtype)"
      ],
      "metadata": {
        "colab": {
          "base_uri": "https://localhost:8080/"
        },
        "id": "p4JLDvgA4cAh",
        "outputId": "055d1b40-b77a-465b-edb8-2394393ee26a"
      },
      "execution_count": 4,
      "outputs": [
        {
          "output_type": "stream",
          "name": "stdout",
          "text": [
            "Data type:  int8\n"
          ]
        }
      ]
    },
    {
      "cell_type": "markdown",
      "source": [
        "Arithmetic operation"
      ],
      "metadata": {
        "id": "Yw6lMFCkBvEJ"
      }
    },
    {
      "cell_type": "code",
      "source": [
        "var = np.array([1,2,3,4])\n",
        "var1 = np.array([3,4,5,6])\n",
        "\n",
        "varadd = var + 3\n",
        "print(varadd)\n",
        "\n",
        "varsum = var + var1\n",
        "sumvar = np.add(var,var1)\n",
        "print(varsum)\n",
        "print(sumvar)"
      ],
      "metadata": {
        "colab": {
          "base_uri": "https://localhost:8080/"
        },
        "id": "PKfmDzwtB3Nq",
        "outputId": "a5aaedba-07dc-4b93-c96d-a92898c38d11"
      },
      "execution_count": 13,
      "outputs": [
        {
          "output_type": "stream",
          "name": "stdout",
          "text": [
            "(4,)\n",
            "[4 5 6 7]\n",
            "[ 4  6  8 10]\n",
            "[ 4  6  8 10]\n"
          ]
        }
      ]
    },
    {
      "cell_type": "markdown",
      "source": [
        "Arithmetic Functions"
      ],
      "metadata": {
        "id": "mcwpFi_TEqni"
      }
    },
    {
      "cell_type": "code",
      "source": [
        "var = np.array([2,3,4,5,1,6])\n",
        "\n",
        "print(np.max(var))\n",
        "print(np.min(var))\n",
        "print(np.argmin(var)) ## gives index\n",
        "print(np.sqrt(var))\n",
        "print(np.sin(var))\n",
        "print(np.cos(var))\n",
        "print(np.cumsum(var))"
      ],
      "metadata": {
        "colab": {
          "base_uri": "https://localhost:8080/"
        },
        "id": "Y6EPLev3EtSR",
        "outputId": "e6183aee-1eb0-42e6-da13-9f05085d8f12"
      },
      "execution_count": 9,
      "outputs": [
        {
          "output_type": "stream",
          "name": "stdout",
          "text": [
            "6\n",
            "1\n",
            "4\n",
            "[1.41421356 1.73205081 2.         2.23606798 1.         2.44948974]\n",
            "[ 0.90929743  0.14112001 -0.7568025  -0.95892427  0.84147098 -0.2794155 ]\n",
            "[-0.41614684 -0.9899925  -0.65364362  0.28366219  0.54030231  0.96017029]\n",
            "[ 2  5  9 14 15 21]\n"
          ]
        }
      ]
    },
    {
      "cell_type": "markdown",
      "source": [
        "Broadcasting\n",
        "\n",
        "performing arithmetic operations on array of different dimension, either dimension each comparison should be same or there must be atleast one 1"
      ],
      "metadata": {
        "id": "vNuuvYE2Jdvm"
      }
    },
    {
      "cell_type": "code",
      "source": [
        "var1 = np.array([1,2,3])\n",
        "var2 = np.array([[1],[2],[3]])\n",
        "print(var1 + var2)\n",
        "## 1x3 into 3x1, start from right corner, compare 1 with 3 then 3 with 1"
      ],
      "metadata": {
        "colab": {
          "base_uri": "https://localhost:8080/"
        },
        "id": "CFBACXuTJqgC",
        "outputId": "518232b4-1ece-4f9a-82ad-a18fd0752aec"
      },
      "execution_count": 17,
      "outputs": [
        {
          "output_type": "stream",
          "name": "stdout",
          "text": [
            "[[2 3 4]\n",
            " [3 4 5]\n",
            " [4 5 6]]\n"
          ]
        }
      ]
    },
    {
      "cell_type": "code",
      "source": [
        "var1 = np.array([[1],[2]])\n",
        "var2 = np.array([[1,2,3],[3,4,5]])\n",
        "print(var1)\n",
        "print()\n",
        "print(var2)\n",
        "print()\n",
        "print(var1 + var2)\n",
        "## 2x1 into 2x3, start from right corner, compare 3 with 1 then 2 with 2\n",
        "## final matrix is 2x3"
      ],
      "metadata": {
        "colab": {
          "base_uri": "https://localhost:8080/"
        },
        "id": "FIVjC-hh0jbF",
        "outputId": "4db4db47-8fc9-441d-bd8a-3ee2d79bfe04"
      },
      "execution_count": 4,
      "outputs": [
        {
          "output_type": "stream",
          "name": "stdout",
          "text": [
            "[[1]\n",
            " [2]]\n",
            "\n",
            "[[1 2 3]\n",
            " [3 4 5]]\n",
            "\n",
            "[[2 3 4]\n",
            " [5 6 7]]\n"
          ]
        }
      ]
    },
    {
      "cell_type": "markdown",
      "source": [
        "Indexing"
      ],
      "metadata": {
        "id": "Nn6XaRDfBoJM"
      }
    },
    {
      "cell_type": "code",
      "source": [
        "var = np.array([9,8,7,6])\n",
        "print(var[1])\n",
        "print(var[-3])"
      ],
      "metadata": {
        "colab": {
          "base_uri": "https://localhost:8080/"
        },
        "id": "pssamsIvBp9y",
        "outputId": "e071e720-72a6-49c0-8c02-2843d9d50b94"
      },
      "execution_count": 5,
      "outputs": [
        {
          "output_type": "stream",
          "name": "stdout",
          "text": [
            "8\n"
          ]
        }
      ]
    },
    {
      "cell_type": "code",
      "source": [
        "var1 = np.array([[1,2,3,4],[4,5,6,7]])\n",
        "print(var1)\n",
        "print()\n",
        "print(var1[0,1])"
      ],
      "metadata": {
        "colab": {
          "base_uri": "https://localhost:8080/"
        },
        "id": "RX0HpjNHCAzA",
        "outputId": "f636e639-1c81-4957-c3a8-51e80fa2ff32"
      },
      "execution_count": 8,
      "outputs": [
        {
          "output_type": "stream",
          "name": "stdout",
          "text": [
            "[[1 2 3 4]\n",
            " [4 5 6 7]]\n",
            "\n",
            "2\n"
          ]
        }
      ]
    },
    {
      "cell_type": "markdown",
      "source": [
        "Slicing\n",
        "\n",
        "var[*start*: *stop*: *step*]"
      ],
      "metadata": {
        "id": "DFwnHbAHCwAs"
      }
    },
    {
      "cell_type": "code",
      "source": [
        "var = np.array([9,8,7,6,5,4,3,2,1])\n",
        "print(var[1:5:2])\n",
        "print(var[::3])"
      ],
      "metadata": {
        "colab": {
          "base_uri": "https://localhost:8080/"
        },
        "id": "hz0YHGdECxR1",
        "outputId": "12049624-5113-4c08-a4c7-2a34315275e2"
      },
      "execution_count": 11,
      "outputs": [
        {
          "output_type": "stream",
          "name": "stdout",
          "text": [
            "[8 6]\n",
            "[9 6 3]\n"
          ]
        }
      ]
    },
    {
      "cell_type": "code",
      "source": [
        "arr = np.array([[1,2,3,4],[5,6,7,8],[9,10,11,12]])\n",
        "print(arr[1,1:])"
      ],
      "metadata": {
        "colab": {
          "base_uri": "https://localhost:8080/"
        },
        "id": "mUEwAY9IFHfu",
        "outputId": "f40245e9-ed0e-4b6a-e28e-2e3256b166df"
      },
      "execution_count": 13,
      "outputs": [
        {
          "output_type": "stream",
          "name": "stdout",
          "text": [
            "[6 7 8]\n"
          ]
        }
      ]
    },
    {
      "cell_type": "markdown",
      "source": [
        "Iteration"
      ],
      "metadata": {
        "id": "Ph9jW4U3FXPq"
      }
    },
    {
      "cell_type": "code",
      "source": [
        "arr = np.array([[1,4],[5,8],[9,10]])\n",
        "\n",
        "for i in np.nditer(arr):\n",
        "  print(i)\n",
        "\n",
        "## or can use 3 for loops"
      ],
      "metadata": {
        "colab": {
          "base_uri": "https://localhost:8080/"
        },
        "id": "irfso3vfFYd5",
        "outputId": "00f3380b-00dc-418f-80c5-a63e2b77a710"
      },
      "execution_count": 16,
      "outputs": [
        {
          "output_type": "stream",
          "name": "stdout",
          "text": [
            "1\n",
            "4\n",
            "5\n",
            "8\n",
            "9\n",
            "10\n"
          ]
        }
      ]
    },
    {
      "cell_type": "code",
      "source": [
        "for i in np.nditer(arr,flags=['buffered'], op_dtypes=\"S\"):\n",
        "  print(i)"
      ],
      "metadata": {
        "colab": {
          "base_uri": "https://localhost:8080/"
        },
        "id": "6cgmrs0iGjsT",
        "outputId": "386d7c73-6096-4056-d973-e63aec50f1ec"
      },
      "execution_count": 18,
      "outputs": [
        {
          "output_type": "stream",
          "name": "stdout",
          "text": [
            "b'1'\n",
            "b'4'\n",
            "b'5'\n",
            "b'8'\n",
            "b'9'\n",
            "b'10'\n"
          ]
        }
      ]
    },
    {
      "cell_type": "code",
      "source": [
        "for i,d in np.ndenumerate(arr):\n",
        "  print(i,d)"
      ],
      "metadata": {
        "colab": {
          "base_uri": "https://localhost:8080/"
        },
        "id": "-5oSbUekG68_",
        "outputId": "89f40203-7720-4e89-c061-14b2a39b9a15"
      },
      "execution_count": 19,
      "outputs": [
        {
          "output_type": "stream",
          "name": "stdout",
          "text": [
            "(0, 0) 1\n",
            "(0, 1) 4\n",
            "(1, 0) 5\n",
            "(1, 1) 8\n",
            "(2, 0) 9\n",
            "(2, 1) 10\n"
          ]
        }
      ]
    },
    {
      "cell_type": "markdown",
      "source": [
        "Copy vs View"
      ],
      "metadata": {
        "id": "m8aJERNQHhwc"
      }
    },
    {
      "cell_type": "code",
      "source": [
        "var = np.array([1,2,3,4])\n",
        "co = var.copy()\n",
        "print(\"Copy: \",co)\n",
        "## makes new array and copies the data\n",
        "\n",
        "var[1]=7\n",
        "\n",
        "vw = var.view()\n",
        "print(\"View: \",vw)\n",
        "## only views the original data"
      ],
      "metadata": {
        "colab": {
          "base_uri": "https://localhost:8080/"
        },
        "id": "nYgUicdHHmP0",
        "outputId": "29c06f82-64f5-45d2-bef1-ebc07b356f82"
      },
      "execution_count": 25,
      "outputs": [
        {
          "output_type": "stream",
          "name": "stdout",
          "text": [
            "Copy:  [1 2 3 4]\n",
            "View:  [1 7 3 4]\n"
          ]
        }
      ]
    },
    {
      "cell_type": "markdown",
      "source": [
        "Join Array"
      ],
      "metadata": {
        "id": "-gjqiZD3JHUu"
      }
    },
    {
      "cell_type": "code",
      "source": [
        "var1 = np.array([[1,2],[3,4]])\n",
        "var2 = np.array([[5,6],[7,8]])\n",
        "\n",
        "new_arr1 = np.concatenate((var1, var2), axis=0)\n",
        "print(new_arr1)\n",
        "print()\n",
        "\n",
        "new_arr2 = np.concatenate((var1, var2), axis=1)\n",
        "print(new_arr2)"
      ],
      "metadata": {
        "colab": {
          "base_uri": "https://localhost:8080/"
        },
        "id": "P-TJKW6gJIt9",
        "outputId": "fd171fe0-12d9-4520-ae15-0aad2bee9a89"
      },
      "execution_count": 35,
      "outputs": [
        {
          "output_type": "stream",
          "name": "stdout",
          "text": [
            "[[1 2]\n",
            " [3 4]\n",
            " [5 6]\n",
            " [7 8]]\n",
            "\n",
            "[[1 2 5 6]\n",
            " [3 4 7 8]]\n",
            "\n",
            "[[[1 2]\n",
            "  [5 6]]\n",
            "\n",
            " [[3 4]\n",
            "  [7 8]]]\n",
            "\n",
            "[[1 2 5 6]\n",
            " [3 4 7 8]]\n",
            "\n",
            "[[1 2]\n",
            " [3 4]\n",
            " [5 6]\n",
            " [7 8]]\n",
            "\n",
            "[[[1 5]\n",
            "  [2 6]]\n",
            "\n",
            " [[3 7]\n",
            "  [4 8]]]\n"
          ]
        }
      ]
    },
    {
      "cell_type": "code",
      "source": [
        "new_arr3 = np.stack((var1,var2), axis=1)\n",
        "new1 = np.hstack((var1,var2))\n",
        "new2 = np.vstack((var1,var2))\n",
        "new3 = np.dstack((var1,var2))\n",
        "\n",
        "print(new_arr3)\n",
        "print()\n",
        "print(new1)\n",
        "print()\n",
        "print(new2)\n",
        "print()\n",
        "print(new3)"
      ],
      "metadata": {
        "colab": {
          "base_uri": "https://localhost:8080/"
        },
        "id": "Kwz3lPHdL56w",
        "outputId": "470cb30e-ecfa-4b7f-bbdd-063e2a7ac96e"
      },
      "execution_count": 36,
      "outputs": [
        {
          "output_type": "stream",
          "name": "stdout",
          "text": [
            "[[[1 2]\n",
            "  [5 6]]\n",
            "\n",
            " [[3 4]\n",
            "  [7 8]]]\n",
            "\n",
            "[[1 2 5 6]\n",
            " [3 4 7 8]]\n",
            "\n",
            "[[1 2]\n",
            " [3 4]\n",
            " [5 6]\n",
            " [7 8]]\n",
            "\n",
            "[[[1 5]\n",
            "  [2 6]]\n",
            "\n",
            " [[3 7]\n",
            "  [4 8]]]\n"
          ]
        }
      ]
    },
    {
      "cell_type": "markdown",
      "source": [
        "Split Array"
      ],
      "metadata": {
        "id": "7eQH7e6FM-Pr"
      }
    },
    {
      "cell_type": "code",
      "source": [
        "var = np.array([[1,2],[3,4],[5,6]])\n",
        "\n",
        "ar1 = np.array_split(var,3)\n",
        "ar2 = np.array_split(var,3,axis=1)\n",
        "\n",
        "print(var)\n",
        "print()\n",
        "print(ar1)\n",
        "print()\n",
        "print(ar2)"
      ],
      "metadata": {
        "colab": {
          "base_uri": "https://localhost:8080/"
        },
        "id": "5at8Teg6NABr",
        "outputId": "b420e107-cb5e-409c-fe6b-18f83fac8865"
      },
      "execution_count": 38,
      "outputs": [
        {
          "output_type": "stream",
          "name": "stdout",
          "text": [
            "[[1 2]\n",
            " [3 4]\n",
            " [5 6]]\n",
            "\n",
            "[array([[1, 2]]), array([[3, 4]]), array([[5, 6]])]\n",
            "\n",
            "[array([[1],\n",
            "       [3],\n",
            "       [5]]), array([[2],\n",
            "       [4],\n",
            "       [6]]), array([], shape=(3, 0), dtype=int64)]\n"
          ]
        }
      ]
    },
    {
      "cell_type": "markdown",
      "source": [
        "Search"
      ],
      "metadata": {
        "id": "6EPFtBGLA3zs"
      }
    },
    {
      "cell_type": "code",
      "source": [
        "import numpy as np\n",
        "\n",
        "var = np.array([2,4,5,6,8,2,9])\n",
        "x = np.where( var == 2 )\n",
        "print(x)"
      ],
      "metadata": {
        "colab": {
          "base_uri": "https://localhost:8080/"
        },
        "id": "3X4wsGX2A59e",
        "outputId": "5124e5e4-d24f-494d-e8fb-36612fe453ac"
      },
      "execution_count": 2,
      "outputs": [
        {
          "output_type": "stream",
          "name": "stdout",
          "text": [
            "(array([0, 5]),)\n"
          ]
        }
      ]
    },
    {
      "cell_type": "code",
      "source": [
        "var = np.array([1,2,3,3,4,5,6,8])\n",
        "x = np.searchsorted(var,[7,8,9])\n",
        "print(x)\n",
        "\n",
        "y = np.searchsorted(var,7,side=\"right\")\n",
        "print(y)"
      ],
      "metadata": {
        "colab": {
          "base_uri": "https://localhost:8080/"
        },
        "id": "GKFJOONrBdGo",
        "outputId": "082559d9-20a2-4b60-cd37-29e9e9f87759"
      },
      "execution_count": 6,
      "outputs": [
        {
          "output_type": "stream",
          "name": "stdout",
          "text": [
            "[7 7 8]\n",
            "7\n"
          ]
        }
      ]
    },
    {
      "cell_type": "markdown",
      "source": [
        "Sort"
      ],
      "metadata": {
        "id": "ldu_1qTpDEvY"
      }
    },
    {
      "cell_type": "code",
      "source": [
        "var = np.array([2,4,5,8,6,2,9,1])\n",
        "print(np.sort(var))\n",
        "\n",
        "st = np.array(['a', 'f', 'd', 'b'])\n",
        "print(np.sort(st))"
      ],
      "metadata": {
        "colab": {
          "base_uri": "https://localhost:8080/"
        },
        "id": "lOM9ehn-CjKM",
        "outputId": "2147347b-a599-49d1-afd7-158ca26e64f3"
      },
      "execution_count": 9,
      "outputs": [
        {
          "output_type": "stream",
          "name": "stdout",
          "text": [
            "[1 2 2 4 5 6 8 9]\n",
            "['a' 'b' 'd' 'f']\n"
          ]
        }
      ]
    },
    {
      "cell_type": "markdown",
      "source": [
        "Filter Array"
      ],
      "metadata": {
        "id": "4mqgn4V3D4hV"
      }
    },
    {
      "cell_type": "code",
      "source": [
        "st = np.array(['a', 'f', 'd', 'b'])\n",
        "\n",
        "f = [True, False, False, True]\n",
        "\n",
        "print(st[f])"
      ],
      "metadata": {
        "colab": {
          "base_uri": "https://localhost:8080/"
        },
        "id": "6XV9890XD6RX",
        "outputId": "e1519d2f-2745-4092-ca96-d3647164e39c"
      },
      "execution_count": 10,
      "outputs": [
        {
          "output_type": "stream",
          "name": "stdout",
          "text": [
            "['a' 'b']\n"
          ]
        }
      ]
    },
    {
      "cell_type": "code",
      "source": [
        "var = np.array([1,2,3,3,4,5,5,6,8])\n",
        "np.random.shuffle(var)\n",
        "print(var)"
      ],
      "metadata": {
        "colab": {
          "base_uri": "https://localhost:8080/"
        },
        "id": "x8Km6LztE-TP",
        "outputId": "edbd676c-df40-4807-9a23-078d83270d16"
      },
      "execution_count": 14,
      "outputs": [
        {
          "output_type": "stream",
          "name": "stdout",
          "text": [
            "[8 4 5 1 2 3 6 5 3]\n"
          ]
        }
      ]
    },
    {
      "cell_type": "code",
      "source": [
        "x = np.unique(var, return_index = True, return_counts = True)\n",
        "print(x)"
      ],
      "metadata": {
        "colab": {
          "base_uri": "https://localhost:8080/"
        },
        "id": "TNvViXCJFKUo",
        "outputId": "f16666a8-36fc-4e74-e5e6-2600054dfdca"
      },
      "execution_count": 15,
      "outputs": [
        {
          "output_type": "stream",
          "name": "stdout",
          "text": [
            "(array([1, 2, 3, 4, 5, 6, 8]), array([3, 4, 5, 1, 2, 6, 0]), array([1, 1, 2, 1, 2, 1, 1]))\n"
          ]
        }
      ]
    },
    {
      "cell_type": "code",
      "source": [
        "y = np.resize(var,(2,5))\n",
        "print(y)"
      ],
      "metadata": {
        "colab": {
          "base_uri": "https://localhost:8080/"
        },
        "id": "ZMSbYzFHFo4q",
        "outputId": "bc2042c7-1a7f-48d9-e1a8-e480e1ccf029"
      },
      "execution_count": 17,
      "outputs": [
        {
          "output_type": "stream",
          "name": "stdout",
          "text": [
            "[[8 4 5 1 2]\n",
            " [3 6 5 3 8]]\n"
          ]
        }
      ]
    },
    {
      "cell_type": "code",
      "source": [
        "print(\"Flatten: \",y.flatten(order='F'))\n",
        "print()\n",
        "print(\"Ravel: \",np.ravel(y,order='A'))"
      ],
      "metadata": {
        "colab": {
          "base_uri": "https://localhost:8080/"
        },
        "id": "tUN54Dv8GLNb",
        "outputId": "cd6a0a76-e283-4e90-c6d9-3cf1492265e3"
      },
      "execution_count": 20,
      "outputs": [
        {
          "output_type": "stream",
          "name": "stdout",
          "text": [
            "Flatten:  [8 3 4 6 5 5 1 3 2 8]\n",
            "\n",
            "Ravel:  [8 4 5 1 2 3 6 5 3 8]\n"
          ]
        }
      ]
    },
    {
      "cell_type": "markdown",
      "source": [
        "Insert\n",
        "\n",
        "np.insert(*variable*, *position*, *data*)"
      ],
      "metadata": {
        "id": "9p_WFgd9HwSO"
      }
    },
    {
      "cell_type": "code",
      "source": [
        "var = np.array([1,2,3,4])\n",
        "v = np.insert(var, (2,4), 4.9)\n",
        "print(v)\n",
        "\n",
        "x = np.append(var, 0)\n",
        "print(x)"
      ],
      "metadata": {
        "colab": {
          "base_uri": "https://localhost:8080/"
        },
        "id": "mHbTTErKH0Ue",
        "outputId": "05244f31-8f23-4a5c-a72c-68df4ef7b6db"
      },
      "execution_count": 31,
      "outputs": [
        {
          "output_type": "stream",
          "name": "stdout",
          "text": [
            "[1 2 4 3 4 4]\n",
            "[1 2 3 4 0]\n"
          ]
        }
      ]
    },
    {
      "cell_type": "code",
      "source": [
        "var1 = np.array([[1,2,3,4],[5,6,7,8]])\n",
        "v = np.insert(var1, 2, [22,23,24,25], axis=0)\n",
        "print(v)\n",
        "\n",
        "print()\n",
        "\n",
        "w = np.insert(var1, 2, [24,25], axis=1)\n",
        "print(w)"
      ],
      "metadata": {
        "colab": {
          "base_uri": "https://localhost:8080/"
        },
        "id": "Gw2iwbGxI2Xl",
        "outputId": "bdb6fb65-fabf-4959-f99c-2b36d047e1cd"
      },
      "execution_count": 30,
      "outputs": [
        {
          "output_type": "stream",
          "name": "stdout",
          "text": [
            "[[ 1  2  3  4]\n",
            " [ 5  6  7  8]\n",
            " [22 23 24 25]]\n",
            "\n",
            "[[ 1  2 24  3  4]\n",
            " [ 5  6 25  7  8]]\n"
          ]
        }
      ]
    },
    {
      "cell_type": "markdown",
      "source": [
        "Delete"
      ],
      "metadata": {
        "id": "u4XoceEaKBwp"
      }
    },
    {
      "cell_type": "code",
      "source": [
        "var = np.array([1,2,3,4])\n",
        "d = np.delete(var, 2)\n",
        "print(d)"
      ],
      "metadata": {
        "colab": {
          "base_uri": "https://localhost:8080/"
        },
        "id": "_qKo0SxAJsJ2",
        "outputId": "c1767aae-ca20-42de-8d3b-ae0565eece31"
      },
      "execution_count": 34,
      "outputs": [
        {
          "output_type": "stream",
          "name": "stdout",
          "text": [
            "[1 2 4]\n"
          ]
        }
      ]
    },
    {
      "cell_type": "markdown",
      "source": [
        "Matrix"
      ],
      "metadata": {
        "id": "AG4XaE-cLET-"
      }
    },
    {
      "cell_type": "code",
      "source": [
        "var = np.matrix([[1,2,3],[4,5,6],[7,8,9]])\n",
        "var1 = np.array([[1,2,3],[4,5,6],[7,8,9]])\n",
        "\n",
        "print(var)\n",
        "print()\n",
        "print(var1)"
      ],
      "metadata": {
        "colab": {
          "base_uri": "https://localhost:8080/"
        },
        "id": "erLMxc0HLF9f",
        "outputId": "e4e23230-ea91-4474-fee3-8c13b2484031"
      },
      "execution_count": 35,
      "outputs": [
        {
          "output_type": "stream",
          "name": "stdout",
          "text": [
            "[[1 2 3]\n",
            " [4 5 6]\n",
            " [7 8 9]]\n",
            "\n",
            "[[1 2 3]\n",
            " [4 5 6]\n",
            " [7 8 9]]\n"
          ]
        }
      ]
    },
    {
      "cell_type": "code",
      "source": [
        "var = np.matrix([[1,2,3],[4,5,6],[7,8,9]])\n",
        "print(var+var)\n",
        "print()\n",
        "print(var*var)\n",
        "print()\n",
        "print(var.dot(var))\n",
        "\n",
        "print()\n",
        "\n",
        "var1 = np.array([[1,2,3],[4,5,6],[7,8,9]])\n",
        "print(var1+var1)\n",
        "print()\n",
        "print(var1*var1)"
      ],
      "metadata": {
        "colab": {
          "base_uri": "https://localhost:8080/"
        },
        "id": "RgaMxjZsLzcp",
        "outputId": "7f00303b-a45d-48e0-94c5-3cdca9502899"
      },
      "execution_count": 40,
      "outputs": [
        {
          "output_type": "stream",
          "name": "stdout",
          "text": [
            "[[ 2  4  6]\n",
            " [ 8 10 12]\n",
            " [14 16 18]]\n",
            "\n",
            "[[ 30  36  42]\n",
            " [ 66  81  96]\n",
            " [102 126 150]]\n",
            "\n",
            "[[ 30  36  42]\n",
            " [ 66  81  96]\n",
            " [102 126 150]]\n",
            "\n",
            "[[ 2  4  6]\n",
            " [ 8 10 12]\n",
            " [14 16 18]]\n",
            "\n",
            "[[ 1  4  9]\n",
            " [16 25 36]\n",
            " [49 64 81]]\n"
          ]
        }
      ]
    },
    {
      "cell_type": "code",
      "source": [
        "print(np.transpose(var))\n",
        "## var.T\n",
        "print()\n",
        "\n",
        "print(np.swapaxes(var,0,1))"
      ],
      "metadata": {
        "colab": {
          "base_uri": "https://localhost:8080/"
        },
        "id": "SME2Cp9SM_id",
        "outputId": "9fa8660e-badd-4294-a279-feb6227a21b5"
      },
      "execution_count": 44,
      "outputs": [
        {
          "output_type": "stream",
          "name": "stdout",
          "text": [
            "[[1 4 7]\n",
            " [2 5 8]\n",
            " [3 6 9]]\n",
            "\n",
            "[[1 4 7]\n",
            " [2 5 8]\n",
            " [3 6 9]]\n"
          ]
        }
      ]
    },
    {
      "cell_type": "code",
      "source": [
        "## print(np.linalg.inv(var))\n",
        "\n",
        "print(np.linalg.matrix_power(var,2))\n",
        "print()\n",
        "\n",
        "print(np.linalg.matrix_power(var,0))\n",
        "print()\n",
        "\n",
        "## print(np.linalg.matrix_power(var,-2))\n",
        "\n",
        "print(np.linalg.det(var))"
      ],
      "metadata": {
        "colab": {
          "base_uri": "https://localhost:8080/"
        },
        "id": "H4kRDnyUORMj",
        "outputId": "4ffe052c-4cd0-49d5-cdc9-334c6fdc55b4"
      },
      "execution_count": 52,
      "outputs": [
        {
          "output_type": "stream",
          "name": "stdout",
          "text": [
            "[[ 30  36  42]\n",
            " [ 66  81  96]\n",
            " [102 126 150]]\n",
            "\n",
            "[[1 0 0]\n",
            " [0 1 0]\n",
            " [0 0 1]]\n",
            "\n",
            "0.0\n"
          ]
        }
      ]
    }
  ]
}