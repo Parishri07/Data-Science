{
  "nbformat": 4,
  "nbformat_minor": 0,
  "metadata": {
    "colab": {
      "provenance": [],
      "authorship_tag": "ABX9TyPCiXDbm1w+D+4A7vd5MVMZ",
      "include_colab_link": true
    },
    "kernelspec": {
      "name": "python3",
      "display_name": "Python 3"
    },
    "language_info": {
      "name": "python"
    }
  },
  "cells": [
    {
      "cell_type": "markdown",
      "metadata": {
        "id": "view-in-github",
        "colab_type": "text"
      },
      "source": [
        "<a href=\"https://colab.research.google.com/github/Parishri07/Data-Science/blob/main/Model_Development.ipynb\" target=\"_parent\"><img src=\"https://colab.research.google.com/assets/colab-badge.svg\" alt=\"Open In Colab\"/></a>"
      ]
    },
    {
      "cell_type": "markdown",
      "source": [
        "**Simple Linear Regression**"
      ],
      "metadata": {
        "id": "NVRXW4M9eLlF"
      }
    },
    {
      "cell_type": "code",
      "execution_count": null,
      "metadata": {
        "id": "CPlpOiqkeKtE"
      },
      "outputs": [],
      "source": [
        "from sklearn.linear_model import LinearRegression\n",
        "lm = LinearRegression()\n",
        "\n",
        "X = df[['highway-mpg']]\n",
        "Y = df[['price']]\n",
        "\n",
        "lm.fit(X,Y)\n",
        "pred = lm.predict(X)"
      ]
    },
    {
      "cell_type": "markdown",
      "source": [
        "**Multiple Linear Regression**"
      ],
      "metadata": {
        "id": "C66nb9oXerPL"
      }
    },
    {
      "cell_type": "code",
      "source": [
        "z = df[['horsepower', 'curb-weight', 'engine-size', 'highway-mpg']]\n",
        "\n",
        "lm.fit(z, df[['price']])\n",
        "pred = lm.predict(X)\n",
        "\n",
        "lm.intercept_\n",
        "lm.coef_"
      ],
      "metadata": {
        "id": "nHdTbOnze2G2"
      },
      "execution_count": null,
      "outputs": []
    },
    {
      "cell_type": "markdown",
      "source": [
        "Model Evaluation using Visualisation"
      ],
      "metadata": {
        "id": "vfOQuSaygDgR"
      }
    },
    {
      "cell_type": "code",
      "source": [
        "# Regression plot\n",
        "import seaborn as sns\n",
        "\n",
        "sns.regplot(x=\"highway-mpg\", y=\"price\", data=df)\n",
        "plt.ylim(0,)\n",
        "\n",
        "# One thing to keep in mind when looking at a regression plot is to pay attention to how scattered the data points are around the regression line.\n",
        "# This will give you a good indication of the variance of the data and whether a linear model would be the best fit or not.\n",
        "# If the data is too far off from the line, this linear model might not be the best model for this data."
      ],
      "metadata": {
        "id": "jPKqgQV4gOxE"
      },
      "execution_count": null,
      "outputs": []
    },
    {
      "cell_type": "code",
      "source": [
        "# Residual plot\n",
        "import seaborn as sns\n",
        "\n",
        "sns.residplot(df['highway-mpg'], df['price'])\n",
        "\n",
        "# If the points in a residual plot are randomly spread out around the x-axis, then a linear model is appropriate for the data.\n",
        "# Randomly spread out residuals means that the variance is constant, and thus the linear model is a good fit for this data."
      ],
      "metadata": {
        "id": "smS2muJpgv2M"
      },
      "execution_count": null,
      "outputs": []
    },
    {
      "cell_type": "code",
      "source": [
        "# Distribution plot\n",
        "import seaborn as sns\n",
        "\n",
        "ax1 = sns.distplot(df['price'], hist=False, color=\"r\", label=\"Actual Value\")\n",
        "sns.distplot(pred, hist=False, color=\"b\", label=\"Fitted Values\" , ax=ax1)"
      ],
      "metadata": {
        "id": "oXrijIRThVbI"
      },
      "execution_count": null,
      "outputs": []
    },
    {
      "cell_type": "markdown",
      "source": [
        "**Polynomial Regressions**"
      ],
      "metadata": {
        "id": "OSitRGqthuhR"
      }
    },
    {
      "cell_type": "code",
      "source": [
        "# 3rd order model\n",
        "f = np.polyfit(x,y,3)\n",
        "p = np.poly1d(f)\n",
        "print(p)"
      ],
      "metadata": {
        "id": "ghDd-hd5h12C"
      },
      "execution_count": null,
      "outputs": []
    },
    {
      "cell_type": "code",
      "source": [
        "# multidimensional polynomial regression\n",
        "\n",
        "from sklearn.preprocessing import PolynomialFeatures\n",
        "pr = PolynomialFeatures(degree=2, include_bias=False)\n",
        "pr.fit_transform([1,2], include_bias=False)"
      ],
      "metadata": {
        "id": "kNt4Sj_pjvEP"
      },
      "execution_count": null,
      "outputs": []
    },
    {
      "cell_type": "code",
      "source": [
        "# normalise each feature simultaneously\n",
        "from sklearn.preprocessing import StandardScaler\n",
        "scaler = StandardScaler()\n",
        "\n",
        "scaler.fit(x_data[['horsepower', 'highway-mpg']])\n",
        "\n",
        "x_scale = scaler.transform(x_data[['horsepower', 'highway-mpg']])"
      ],
      "metadata": {
        "id": "GkYGLAn3kkYg"
      },
      "execution_count": null,
      "outputs": []
    },
    {
      "cell_type": "markdown",
      "source": [
        "**Pipelines**"
      ],
      "metadata": {
        "id": "tfnJq_dylRrV"
      }
    },
    {
      "cell_type": "code",
      "source": [
        "from sklearn.preprocessing import PolynomialFeatures\n",
        "from sklearn.linear_model import LinearRegression\n",
        "from sklearn.preprocessing import StandardScaler\n",
        "from sklearn.pipeline import Pipeline\n",
        "\n",
        "Input = [('scale', StandardScaler()), ('polynomial', PolynomialFeatures(degree=2)), ('model', LinearRegression())]\n",
        "\n",
        "Pipe = Pipeline(Input)\n",
        "\n",
        "Pipe.fit(df[['horsepower', 'curb-weight', 'engine-size', 'highway-mpg']], y)\n",
        "\n",
        "pred = Pipe.predict(X[['horsepower', 'curb-weight', 'engine-size', 'highway-mpg']])"
      ],
      "metadata": {
        "id": "ZMAyx1i9lYP5"
      },
      "execution_count": null,
      "outputs": []
    },
    {
      "cell_type": "markdown",
      "source": [
        "Measures for in sample evaluation"
      ],
      "metadata": {
        "id": "R5G-DDnstj-5"
      }
    },
    {
      "cell_type": "code",
      "source": [
        "from sklearn.metrics import mean_sqaured_error\n",
        "mean_squared_error(df['price'], y_predict_simple_fit)"
      ],
      "metadata": {
        "id": "PG1DChBmtp1x"
      },
      "execution_count": null,
      "outputs": []
    },
    {
      "cell_type": "code",
      "source": [
        "# R-squared\n",
        "X = df[['highway-mpg']]\n",
        "Y = df['price']\n",
        "\n",
        "lm.fit(X,Y)\n",
        "\n",
        "lm.score(X,Y)"
      ],
      "metadata": {
        "id": "6jy7gVsduNt8"
      },
      "execution_count": null,
      "outputs": []
    }
  ]
}